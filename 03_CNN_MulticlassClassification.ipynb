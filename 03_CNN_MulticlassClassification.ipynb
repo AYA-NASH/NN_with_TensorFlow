{
  "nbformat": 4,
  "nbformat_minor": 0,
  "metadata": {
    "colab": {
      "provenance": [],
      "authorship_tag": "ABX9TyPuhceepjGbQtVgsEMHXVOb",
      "include_colab_link": true
    },
    "kernelspec": {
      "name": "python3",
      "display_name": "Python 3"
    },
    "language_info": {
      "name": "python"
    },
    "accelerator": "GPU",
    "gpuClass": "standard"
  },
  "cells": [
    {
      "cell_type": "markdown",
      "metadata": {
        "id": "view-in-github",
        "colab_type": "text"
      },
      "source": [
        "<a href=\"https://colab.research.google.com/github/AYA-NASH/NN_with_TensorFlow/blob/main/03_CNN_MulticlassClassification.ipynb\" target=\"_parent\"><img src=\"https://colab.research.google.com/assets/colab-badge.svg\" alt=\"Open In Colab\"/></a>"
      ]
    },
    {
      "cell_type": "markdown",
      "source": [
        "##Multiclass Classification"
      ],
      "metadata": {
        "id": "CQ1PyckTZWIc"
      }
    },
    {
      "cell_type": "markdown",
      "source": [
        "### Importing data"
      ],
      "metadata": {
        "id": "eLHgaRM9ZbZd"
      }
    },
    {
      "cell_type": "markdown",
      "source": [
        "**1- loading and understanding data**"
      ],
      "metadata": {
        "id": "AdqTfFDrZuzC"
      }
    },
    {
      "cell_type": "code",
      "source": [
        "import zipfile\n",
        "!wget https://storage.googleapis.com/ztm_tf_course/food_vision/10_food_classes_all_data.zip "
      ],
      "metadata": {
        "colab": {
          "base_uri": "https://localhost:8080/"
        },
        "id": "NJKe0mq0Ztxt",
        "outputId": "652013ff-2312-4e1a-88fb-8f3721255a36"
      },
      "execution_count": 1,
      "outputs": [
        {
          "output_type": "stream",
          "name": "stdout",
          "text": [
            "--2023-05-12 17:53:09--  https://storage.googleapis.com/ztm_tf_course/food_vision/10_food_classes_all_data.zip\n",
            "Resolving storage.googleapis.com (storage.googleapis.com)... 173.194.202.128, 74.125.199.128, 74.125.20.128, ...\n",
            "Connecting to storage.googleapis.com (storage.googleapis.com)|173.194.202.128|:443... connected.\n",
            "HTTP request sent, awaiting response... 200 OK\n",
            "Length: 519183241 (495M) [application/zip]\n",
            "Saving to: ‘10_food_classes_all_data.zip’\n",
            "\n",
            "10_food_classes_all 100%[===================>] 495.13M   154MB/s    in 3.2s    \n",
            "\n",
            "2023-05-12 17:53:12 (154 MB/s) - ‘10_food_classes_all_data.zip’ saved [519183241/519183241]\n",
            "\n"
          ]
        }
      ]
    },
    {
      "cell_type": "code",
      "source": [
        "extracted_data = zipfile.ZipFile(\"10_food_classes_all_data.zip\",\"r\")\n",
        "extracted_data.extractall()\n",
        "extracted_data.close()"
      ],
      "metadata": {
        "id": "B0RrXTpZZ_JU"
      },
      "execution_count": 2,
      "outputs": []
    },
    {
      "cell_type": "code",
      "source": [
        "# Discovering data directories:\n",
        "import os\n",
        "\n",
        "for dirpath, dirnames, filenames in os.walk(\"10_food_classes_all_data\"):\n",
        "  print(f\"There are {len(dirnames)} directories and {len(filenames)} Images in {dirpath} directory\")"
      ],
      "metadata": {
        "colab": {
          "base_uri": "https://localhost:8080/"
        },
        "id": "Izw9xG6iaVgM",
        "outputId": "1d01069c-426f-43e0-9ef5-03e9c028da16"
      },
      "execution_count": 3,
      "outputs": [
        {
          "output_type": "stream",
          "name": "stdout",
          "text": [
            "There are 2 directories and 0 Images in 10_food_classes_all_data directory\n",
            "There are 10 directories and 0 Images in 10_food_classes_all_data/train directory\n",
            "There are 0 directories and 750 Images in 10_food_classes_all_data/train/grilled_salmon directory\n",
            "There are 0 directories and 750 Images in 10_food_classes_all_data/train/pizza directory\n",
            "There are 0 directories and 750 Images in 10_food_classes_all_data/train/fried_rice directory\n",
            "There are 0 directories and 750 Images in 10_food_classes_all_data/train/steak directory\n",
            "There are 0 directories and 750 Images in 10_food_classes_all_data/train/ice_cream directory\n",
            "There are 0 directories and 750 Images in 10_food_classes_all_data/train/chicken_curry directory\n",
            "There are 0 directories and 750 Images in 10_food_classes_all_data/train/chicken_wings directory\n",
            "There are 0 directories and 750 Images in 10_food_classes_all_data/train/sushi directory\n",
            "There are 0 directories and 750 Images in 10_food_classes_all_data/train/hamburger directory\n",
            "There are 0 directories and 750 Images in 10_food_classes_all_data/train/ramen directory\n",
            "There are 10 directories and 0 Images in 10_food_classes_all_data/test directory\n",
            "There are 0 directories and 250 Images in 10_food_classes_all_data/test/grilled_salmon directory\n",
            "There are 0 directories and 250 Images in 10_food_classes_all_data/test/pizza directory\n",
            "There are 0 directories and 250 Images in 10_food_classes_all_data/test/fried_rice directory\n",
            "There are 0 directories and 250 Images in 10_food_classes_all_data/test/steak directory\n",
            "There are 0 directories and 250 Images in 10_food_classes_all_data/test/ice_cream directory\n",
            "There are 0 directories and 250 Images in 10_food_classes_all_data/test/chicken_curry directory\n",
            "There are 0 directories and 250 Images in 10_food_classes_all_data/test/chicken_wings directory\n",
            "There are 0 directories and 250 Images in 10_food_classes_all_data/test/sushi directory\n",
            "There are 0 directories and 250 Images in 10_food_classes_all_data/test/hamburger directory\n",
            "There are 0 directories and 250 Images in 10_food_classes_all_data/test/ramen directory\n"
          ]
        }
      ]
    },
    {
      "cell_type": "code",
      "source": [
        "# Creating list for our classes:\n",
        "import pathlib\n",
        "import numpy as np\n",
        "train_dir_path = \"10_food_classes_all_data/train/\"\n",
        "test_dir_path = \"10_food_classes_all_data/test/\"\n",
        "\n",
        "data_dir = pathlib.Path(train_dir_path)\n",
        "\n",
        "# class_names = np.array(sorted([item.name for item in data_dir.glob('*')]))\n",
        "\n",
        "class_names = list(sorted([item.name for item in data_dir.glob('*')]))"
      ],
      "metadata": {
        "id": "i3qh60-SbQ-f"
      },
      "execution_count": 4,
      "outputs": []
    },
    {
      "cell_type": "code",
      "source": [
        "class_names"
      ],
      "metadata": {
        "colab": {
          "base_uri": "https://localhost:8080/"
        },
        "id": "yvNIMsLAczRc",
        "outputId": "b3798bf6-f053-4272-c501-ad534cde9333"
      },
      "execution_count": 5,
      "outputs": [
        {
          "output_type": "execute_result",
          "data": {
            "text/plain": [
              "['chicken_curry',\n",
              " 'chicken_wings',\n",
              " 'fried_rice',\n",
              " 'grilled_salmon',\n",
              " 'hamburger',\n",
              " 'ice_cream',\n",
              " 'pizza',\n",
              " 'ramen',\n",
              " 'steak',\n",
              " 'sushi']"
            ]
          },
          "metadata": {},
          "execution_count": 5
        }
      ]
    },
    {
      "cell_type": "markdown",
      "source": [
        "**2- Preprocessing Data**"
      ],
      "metadata": {
        "id": "jqyz2GoAdhP0"
      }
    },
    {
      "cell_type": "code",
      "source": [
        "from tensorflow.keras.preprocessing.image import ImageDataGenerator\n",
        "\n",
        "train_datagen = ImageDataGenerator(rescale = 1/255.)\n",
        "test_datagen = ImageDataGenerator(rescale = 1 / 255.)\n",
        "# Turning data into batches :\n",
        "train_data = train_datagen.flow_from_directory(train_dir_path ,\n",
        "                                         target_size = (224,224),\n",
        "                                         batch_size = 32,\n",
        "                                         class_mode = \"categorical\")\n",
        "\n",
        "test_data = test_datagen.flow_from_directory(test_dir_path,\n",
        "                                       target_size = (224,224),\n",
        "                                       batch_size = 32,\n",
        "                                       class_mode = \"categorical\")"
      ],
      "metadata": {
        "colab": {
          "base_uri": "https://localhost:8080/"
        },
        "id": "X9rbAY9Gc233",
        "outputId": "49bd5e94-3ce3-4ef5-b864-867134182ddf"
      },
      "execution_count": 6,
      "outputs": [
        {
          "output_type": "stream",
          "name": "stdout",
          "text": [
            "Found 7500 images belonging to 10 classes.\n",
            "Found 2500 images belonging to 10 classes.\n"
          ]
        }
      ]
    },
    {
      "cell_type": "code",
      "source": [
        "train_images , labels = train_data.next()\n",
        "\n",
        "train_images.shape , labels.shape"
      ],
      "metadata": {
        "colab": {
          "base_uri": "https://localhost:8080/"
        },
        "id": "Rlj7yNA4gk6S",
        "outputId": "bc294e2e-0ca6-4ff5-967f-c8dfbf5c6343"
      },
      "execution_count": 7,
      "outputs": [
        {
          "output_type": "execute_result",
          "data": {
            "text/plain": [
              "((32, 224, 224, 3), (32, 10))"
            ]
          },
          "metadata": {},
          "execution_count": 7
        }
      ]
    },
    {
      "cell_type": "markdown",
      "source": [
        "###Building model"
      ],
      "metadata": {
        "id": "CSvg8EvRg5ib"
      }
    },
    {
      "cell_type": "code",
      "source": [
        "from tensorflow.keras.models import Sequential\n",
        "from tensorflow.keras.layers import Conv2D, MaxPool2D, Flatten, Dense\n",
        "from tensorflow.keras.optimizers import Adam\n",
        "\n",
        "model_1 = Sequential([\n",
        "    Conv2D(10, 3, activation = \"relu\", input_shape = (224,224,3)),\n",
        "    Conv2D(10, 3, activation = \"relu\"),\n",
        "\n",
        "    MaxPool2D(pool_size = 2),\n",
        "\n",
        "    Conv2D(10, 3, activation = \"relu\"),\n",
        "    Conv2D(10, 3, activation = \"relu\"),\n",
        "\n",
        "    MaxPool2D(),\n",
        "\n",
        "    Flatten(),\n",
        "    Dense(10 , activation = \"softmax\")\n",
        "])"
      ],
      "metadata": {
        "id": "_qQfMx4Tgzq5"
      },
      "execution_count": 8,
      "outputs": []
    },
    {
      "cell_type": "code",
      "source": [
        "model_1.compile(loss = \"categorical_crossentropy\",\n",
        "                optimizer = Adam(),\n",
        "                metrics = [\"accuracy\"])"
      ],
      "metadata": {
        "id": "Rle1XvQjiSZh"
      },
      "execution_count": 9,
      "outputs": []
    },
    {
      "cell_type": "code",
      "source": [
        "history_1 = model_1.fit(train_data,\n",
        "            epochs = 5,\n",
        "            batch_size = 32,\n",
        "            steps_per_epoch = len(train_data),\n",
        "            validation_data = test_data,\n",
        "            validation_steps = len(test_data))"
      ],
      "metadata": {
        "colab": {
          "base_uri": "https://localhost:8080/"
        },
        "id": "jsu3uLx6ii1l",
        "outputId": "456a4cfc-b086-466d-c8f3-929b071dec50"
      },
      "execution_count": 10,
      "outputs": [
        {
          "output_type": "stream",
          "name": "stdout",
          "text": [
            "Epoch 1/5\n",
            "235/235 [==============================] - 66s 228ms/step - loss: 2.2245 - accuracy: 0.1681 - val_loss: 2.0666 - val_accuracy: 0.2552\n",
            "Epoch 2/5\n",
            "235/235 [==============================] - 50s 215ms/step - loss: 1.8728 - accuracy: 0.3469 - val_loss: 2.0053 - val_accuracy: 0.2876\n",
            "Epoch 3/5\n",
            "235/235 [==============================] - 50s 211ms/step - loss: 1.2882 - accuracy: 0.5707 - val_loss: 2.3770 - val_accuracy: 0.2840\n",
            "Epoch 4/5\n",
            "235/235 [==============================] - 49s 210ms/step - loss: 0.5608 - accuracy: 0.8201 - val_loss: 3.2117 - val_accuracy: 0.2516\n",
            "Epoch 5/5\n",
            "235/235 [==============================] - 49s 209ms/step - loss: 0.1674 - accuracy: 0.9500 - val_loss: 4.9648 - val_accuracy: 0.2468\n"
          ]
        }
      ]
    },
    {
      "cell_type": "markdown",
      "source": [
        "**Evaluating model:**"
      ],
      "metadata": {
        "id": "r60WptHKl3wW"
      }
    },
    {
      "cell_type": "code",
      "source": [
        "model_1.evaluate(test_data)"
      ],
      "metadata": {
        "colab": {
          "base_uri": "https://localhost:8080/"
        },
        "id": "gZbDb5fYi-72",
        "outputId": "83a9313a-4ac8-4e6f-b73c-3e63ab11f255"
      },
      "execution_count": 11,
      "outputs": [
        {
          "output_type": "stream",
          "name": "stdout",
          "text": [
            "79/79 [==============================] - 12s 147ms/step - loss: 4.9648 - accuracy: 0.2468\n"
          ]
        },
        {
          "output_type": "execute_result",
          "data": {
            "text/plain": [
              "[4.964791774749756, 0.2468000054359436]"
            ]
          },
          "metadata": {},
          "execution_count": 11
        }
      ]
    },
    {
      "cell_type": "markdown",
      "source": [
        "**Helper Function to Visualize model's loss**"
      ],
      "metadata": {
        "id": "xUji87vkmP3s"
      }
    },
    {
      "cell_type": "code",
      "source": [
        "import tensorflow as tf\n",
        "import matplotlib.pyplot as plt"
      ],
      "metadata": {
        "id": "Mcmbtrd7qwK7"
      },
      "execution_count": 12,
      "outputs": []
    },
    {
      "cell_type": "code",
      "source": [
        "def plot_loss_curves(history):\n",
        "  loss = history.history[\"loss\"]\n",
        "  val_loss = history.history[\"val_loss\"]\n",
        "\n",
        "  accuracy = history.history[\"accuracy\"]\n",
        "  val_accuracy = history.history[\"val_accuracy\"]\n",
        "\n",
        "  epochs = range(len(loss))\n",
        "\n",
        "  # plotting loss\n",
        "  plt.plot(epochs, loss, label = \"Training Loss\")\n",
        "  plt.plot(epochs, val_loss, label = \"Validation loss\")  \n",
        "  plt.legend();\n",
        "\n",
        "  # plotting Accuracy:\n",
        "  plt.figure()\n",
        "  plt.plot(epochs, accuracy, label = \"Training Accuracy\")\n",
        "  plt.plot(epochs, val_accuracy, label = \"Validation Accuracy\")  \n",
        "  plt.legend();"
      ],
      "metadata": {
        "id": "ywRYSRCxmCHX"
      },
      "execution_count": 13,
      "outputs": []
    },
    {
      "cell_type": "code",
      "source": [
        "plot_loss_curves(history_1)"
      ],
      "metadata": {
        "colab": {
          "base_uri": "https://localhost:8080/",
          "height": 843
        },
        "id": "oQcjgk8NnmAT",
        "outputId": "7df194e5-9a28-4867-86b2-91b35ed09938"
      },
      "execution_count": 14,
      "outputs": [
        {
          "output_type": "display_data",
          "data": {
            "text/plain": [
              "<Figure size 640x480 with 1 Axes>"
            ],
            "image/png": "[encoded data removed]"
          },
          "metadata": {}
        },
        {
          "output_type": "display_data",
          "data": {
            "text/plain": [
              "<Figure size 640x480 with 1 Axes>"
            ],
            "image/png": "[encoded data removed]"
          },
          "metadata": {}
        }
      ]
    },
    {
      "cell_type": "markdown",
      "source": [
        "###Modifying The model:"
      ],
      "metadata": {
        "id": "R4fjOF42revc"
      }
    },
    {
      "cell_type": "markdown",
      "source": [
        "1- decrease the convlayers"
      ],
      "metadata": {
        "id": "MDEQ3N24rpJ-"
      }
    },
    {
      "cell_type": "code",
      "source": [
        "model_2 = Sequential([\n",
        "    Conv2D(10, 3, activation = \"relu\", input_shape = (224,224,3)),\n",
        "   \n",
        "    MaxPool2D(pool_size = 2),\n",
        "\n",
        "    Conv2D(10, 3, activation = \"relu\"),\n",
        "   \n",
        "    MaxPool2D(),\n",
        "\n",
        "    Flatten(),\n",
        "    Dense(10 , activation = \"softmax\")\n",
        "])\n",
        "\n",
        "model_2.compile(loss = \"categorical_crossentropy\",\n",
        "                optimizer = Adam(),\n",
        "                metrics = [\"accuracy\"])\n",
        "\n",
        "history_2 = model_2.fit(train_data,\n",
        "            epochs = 5,\n",
        "            batch_size = 32,\n",
        "            steps_per_epoch = len(train_data),\n",
        "            validation_data = test_data,\n",
        "            validation_steps = len(test_data))"
      ],
      "metadata": {
        "colab": {
          "base_uri": "https://localhost:8080/"
        },
        "id": "oYv_w1WFruwT",
        "outputId": "5ac733d2-1d63-409c-8a04-2293727409a4"
      },
      "execution_count": 15,
      "outputs": [
        {
          "output_type": "stream",
          "name": "stdout",
          "text": [
            "Epoch 1/5\n",
            "235/235 [==============================] - 49s 200ms/step - loss: 2.1635 - accuracy: 0.2225 - val_loss: 1.9789 - val_accuracy: 0.3080\n",
            "Epoch 2/5\n",
            "235/235 [==============================] - 48s 202ms/step - loss: 1.7868 - accuracy: 0.3933 - val_loss: 1.9854 - val_accuracy: 0.2996\n",
            "Epoch 3/5\n",
            "235/235 [==============================] - 47s 199ms/step - loss: 1.3363 - accuracy: 0.5665 - val_loss: 1.9951 - val_accuracy: 0.3324\n",
            "Epoch 4/5\n",
            "235/235 [==============================] - 47s 200ms/step - loss: 0.8373 - accuracy: 0.7497 - val_loss: 2.3255 - val_accuracy: 0.3012\n",
            "Epoch 5/5\n",
            "235/235 [==============================] - 46s 195ms/step - loss: 0.4296 - accuracy: 0.8852 - val_loss: 2.7215 - val_accuracy: 0.2916\n"
          ]
        }
      ]
    },
    {
      "cell_type": "code",
      "source": [
        "model_2.evaluate(test_data)"
      ],
      "metadata": {
        "colab": {
          "base_uri": "https://localhost:8080/"
        },
        "id": "IL8QxvtPs9lS",
        "outputId": "952afef0-f6e2-427b-b37e-4c58d161e7b8"
      },
      "execution_count": 16,
      "outputs": [
        {
          "output_type": "stream",
          "name": "stdout",
          "text": [
            "79/79 [==============================] - 12s 146ms/step - loss: 2.7215 - accuracy: 0.2916\n"
          ]
        },
        {
          "output_type": "execute_result",
          "data": {
            "text/plain": [
              "[2.721519947052002, 0.29159998893737793]"
            ]
          },
          "metadata": {},
          "execution_count": 16
        }
      ]
    },
    {
      "cell_type": "code",
      "source": [
        "plot_loss_curves(history_2)"
      ],
      "metadata": {
        "colab": {
          "base_uri": "https://localhost:8080/",
          "height": 843
        },
        "id": "yyxop8uptL5A",
        "outputId": "1ba63770-1542-44e7-fb59-28aac0175e46"
      },
      "execution_count": 17,
      "outputs": [
        {
          "output_type": "display_data",
          "data": {
            "text/plain": [
              "<Figure size 640x480 with 1 Axes>"
            ],
            "image/png": "[encoded data removed]"
          },
          "metadata": {}
        },
        {
          "output_type": "display_data",
          "data": {
            "text/plain": [
              "<Figure size 640x480 with 1 Axes>"
            ],
            "image/png": "[encoded data removed]"
          },
          "metadata": {}
        }
      ]
    },
    {
      "cell_type": "markdown",
      "source": [
        "2- Applying data Augmentation:\n"
      ],
      "metadata": {
        "id": "UTNl12OctYBB"
      }
    },
    {
      "cell_type": "code",
      "source": [
        "# data augmentation applyed only on training data:\n",
        "train_datagen_augmented = ImageDataGenerator(rescale=1/255.,\n",
        "                                             rotation_range=20, # note: this is an int not a float\n",
        "                                             width_shift_range=0.2,\n",
        "                                             height_shift_range=0.2,\n",
        "                                             zoom_range=0.2,\n",
        "                                             horizontal_flip=True)\n",
        "\n",
        "augmented_train_data = train_datagen_augmented.flow_from_directory(train_dir_path,\n",
        "                                                                   target_size = (224,224),\n",
        "                                                                   batch_size = 32,\n",
        "                                                                   class_mode = \"categorical\")"
      ],
      "metadata": {
        "colab": {
          "base_uri": "https://localhost:8080/"
        },
        "id": "19rylSo7teEB",
        "outputId": "55a7f4ea-7f5d-483c-cb18-43f9482aa072"
      },
      "execution_count": 18,
      "outputs": [
        {
          "output_type": "stream",
          "name": "stdout",
          "text": [
            "Found 7500 images belonging to 10 classes.\n"
          ]
        }
      ]
    },
    {
      "cell_type": "code",
      "source": [
        "# Use model_1 on augmented data:\n",
        "model_3 = tf.keras.models.clone_model(model_1)\n",
        "\n",
        "model_3.compile(loss = \"categorical_crossentropy\",\n",
        "                optimizer = Adam(),\n",
        "                metrics = [\"accuracy\"])\n",
        "\n",
        "history_3 = model_3.fit(augmented_train_data,\n",
        "            epochs = 5,\n",
        "            batch_size = 32,\n",
        "            steps_per_epoch = len(train_data),\n",
        "            validation_data = test_data,\n",
        "            validation_steps = len(test_data))"
      ],
      "metadata": {
        "colab": {
          "base_uri": "https://localhost:8080/"
        },
        "id": "SoN4G3pTuinO",
        "outputId": "29609692-f20d-441f-f06c-bc10e066c383"
      },
      "execution_count": 19,
      "outputs": [
        {
          "output_type": "stream",
          "name": "stdout",
          "text": [
            "Epoch 1/5\n",
            "235/235 [==============================] - 119s 496ms/step - loss: 2.2019 - accuracy: 0.1775 - val_loss: 2.0719 - val_accuracy: 0.2536\n",
            "Epoch 2/5\n",
            "235/235 [==============================] - 117s 498ms/step - loss: 2.0760 - accuracy: 0.2567 - val_loss: 1.9716 - val_accuracy: 0.2976\n",
            "Epoch 3/5\n",
            "235/235 [==============================] - 116s 492ms/step - loss: 2.0199 - accuracy: 0.2821 - val_loss: 1.8459 - val_accuracy: 0.3648\n",
            "Epoch 4/5\n",
            "235/235 [==============================] - 125s 533ms/step - loss: 1.9704 - accuracy: 0.3211 - val_loss: 1.8800 - val_accuracy: 0.3520\n",
            "Epoch 5/5\n",
            "235/235 [==============================] - 117s 496ms/step - loss: 1.9448 - accuracy: 0.3284 - val_loss: 1.7714 - val_accuracy: 0.4024\n"
          ]
        }
      ]
    },
    {
      "cell_type": "markdown",
      "source": [
        "**Helper Functions to load and plot the predicted output from Custom input image**"
      ],
      "metadata": {
        "id": "asYyfQUhmkyE"
      }
    },
    {
      "cell_type": "code",
      "source": [
        "# Define a helper function to load and preprocess the data:\n",
        "def  load_and_prep_image(filename , img_shape = 224 ):\n",
        "  img = tf.io.read_file(filename)\n",
        "  img = tf.image.decode_image(img)\n",
        "  img = tf.image.resize(img, size = [img_shape, img_shape])\n",
        "  img /= 255.\n",
        "\n",
        "  return img"
      ],
      "metadata": {
        "id": "yErpRT1GmfOB"
      },
      "execution_count": 20,
      "outputs": []
    },
    {
      "cell_type": "code",
      "source": [
        "# Creating a function to use a model and a custom image to visualize the prediction:\n",
        "def pred_and_plot(model, filename, classes):\n",
        "  # use the file name to extract the image as a tensor to work with:\n",
        "  img = load_and_prep_image(filename)\n",
        "  # img = tf.expand_dims(img , axis = 0)\n",
        "  # run the model on img:\n",
        "  pred = model.predict(tf.expand_dims(img , axis = 0))\n",
        " # Get the predicted class\n",
        "  if len(pred[0]) > 1: # check for multi-class\n",
        "    pred_class = class_names[pred.argmax()] # if more than one output, take the max\n",
        "  else:\n",
        "    pred_class = class_names[int(tf.round(pred)[0][0])] # if only one output, round\n",
        "\n",
        "  # plot the img with its predicted title:\n",
        "  plt.imshow(img)\n",
        "  plt.title(pred_class)\n",
        "  plt.axis(False);"
      ],
      "metadata": {
        "id": "qKmK1SwpmzDS"
      },
      "execution_count": 21,
      "outputs": []
    },
    {
      "cell_type": "code",
      "source": [],
      "metadata": {
        "id": "xL_hVtP7na4t"
      },
      "execution_count": 21,
      "outputs": []
    }
  ]
}