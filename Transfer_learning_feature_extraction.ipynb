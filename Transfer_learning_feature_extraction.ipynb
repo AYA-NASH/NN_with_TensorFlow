{
  "nbformat": 4,
  "nbformat_minor": 0,
  "metadata": {
    "colab": {
      "provenance": [],
      "authorship_tag": "ABX9TyNcLra6Vxa0LnmvfWZNdWVY",
      "include_colab_link": true
    },
    "kernelspec": {
      "name": "python3",
      "display_name": "Python 3"
    },
    "language_info": {
      "name": "python"
    },
    "accelerator": "GPU",
    "gpuClass": "standard"
  },
  "cells": [
    {
      "cell_type": "markdown",
      "metadata": {
        "id": "view-in-github",
        "colab_type": "text"
      },
      "source": [
        "<a href=\"https://colab.research.google.com/github/AYA-NASH/NN_with_TensorFlow/blob/main/Transfer_learning_feature_extraction.ipynb\" target=\"_parent\"><img src=\"https://colab.research.google.com/assets/colab-badge.svg\" alt=\"Open In Colab\"/></a>"
      ]
    },
    {
      "cell_type": "markdown",
      "source": [
        "#Part_01: feature extraction"
      ],
      "metadata": {
        "id": "1F5NN1nq4ivi"
      }
    },
    {
      "cell_type": "code",
      "source": [
        "import zipfile\n",
        "\n",
        "\n",
        "# Download data\n",
        "!wget https://storage.googleapis.com/ztm_tf_course/food_vision/10_food_classes_10_percent.zip\n"
      ],
      "metadata": {
        "colab": {
          "base_uri": "https://localhost:8080/"
        },
        "id": "TJl0Dj744xaN",
        "outputId": "12c5d556-d7f5-4603-ea3d-9661eff1c050"
      },
      "execution_count": null,
      "outputs": [
        {
          "output_type": "stream",
          "name": "stdout",
          "text": [
            "--2022-12-31 20:05:41--  https://storage.googleapis.com/ztm_tf_course/food_vision/10_food_classes_10_percent.zip\n",
            "Resolving storage.googleapis.com (storage.googleapis.com)... 74.125.200.128, 74.125.68.128, 74.125.24.128, ...\n",
            "Connecting to storage.googleapis.com (storage.googleapis.com)|74.125.200.128|:443... connected.\n",
            "HTTP request sent, awaiting response... 200 OK\n",
            "Length: 168546183 (161M) [application/zip]\n",
            "Saving to: ‘10_food_classes_10_percent.zip’\n",
            "\n",
            "10_food_classes_10_ 100%[===================>] 160.74M  22.9MB/s    in 8.0s    \n",
            "\n",
            "2022-12-31 20:05:50 (20.1 MB/s) - ‘10_food_classes_10_percent.zip’ saved [168546183/168546183]\n",
            "\n"
          ]
        }
      ]
    },
    {
      "cell_type": "code",
      "source": [
        "# Unzip the downloaded file\n",
        "zip_ref = zipfile.ZipFile(\"10_food_classes_10_percent.zip\", \"r\")\n",
        "zip_ref.extractall()\n",
        "zip_ref.close()"
      ],
      "metadata": {
        "id": "Fa1VmdIw8d2U"
      },
      "execution_count": null,
      "outputs": []
    },
    {
      "cell_type": "markdown",
      "source": [
        "###Preparing data:"
      ],
      "metadata": {
        "id": "okerdm228rVL"
      }
    },
    {
      "cell_type": "code",
      "source": [
        "import tensorflow as tf\n",
        "from tensorflow.keras.preprocessing.image import ImageDataGenerator\n",
        "\n",
        "train_path = \"10_food_classes_10_percent/train/\"\n",
        "test_path = \"10_food_classes_10_percent/test/\"\n",
        "\n",
        "train_datagen = ImageDataGenerator(rescale = 1/255.)\n",
        "test_datagen = ImageDataGenerator(rescale = 1/255.)\n",
        "\n",
        "SHAPE = (224,224)\n",
        "BATCH_SIZE = 32\n",
        "\n",
        "train_data_10_percent = train_datagen.flow_from_directory(train_path,\n",
        "                                              target_size = SHAPE,\n",
        "                                              batch_size = BATCH_SIZE,\n",
        "                                              class_mode = 'categorical')\n",
        "\n",
        "test_data = test_datagen.flow_from_directory(test_path,\n",
        "                                              target_size = SHAPE,\n",
        "                                              batch_size = BATCH_SIZE,\n",
        "                                              class_mode = 'categorical')"
      ],
      "metadata": {
        "colab": {
          "base_uri": "https://localhost:8080/"
        },
        "id": "22GyD4Vi8j-h",
        "outputId": "c648690c-a57b-429c-e57d-9544720f9fca"
      },
      "execution_count": null,
      "outputs": [
        {
          "output_type": "stream",
          "name": "stdout",
          "text": [
            "Found 750 images belonging to 10 classes.\n",
            "Found 2500 images belonging to 10 classes.\n"
          ]
        }
      ]
    },
    {
      "cell_type": "markdown",
      "source": [
        "##Setting up callbacks"
      ],
      "metadata": {
        "id": "sj75YcI6_G2V"
      }
    },
    {
      "cell_type": "code",
      "source": [
        "# 1- TensorBoard callback for tracking and comparing between models:\n",
        "import datetime\n",
        "def create_tensorboard_callback(dir_name, experiment_name):\n",
        "  # define the path where the tensorboard files will be stored in.\n",
        "  log_dir = dir_name + '/' + experiment_name + '/' + datetime.datetime.now().strftime(\"%Y%m%d-%H%M%S\")\n",
        "  tensorboard_callback = tf.keras.callbacks.TensorBoard(\n",
        "      log_dir = log_dir\n",
        "  )\n",
        "  print(f\"Saving TensorBoard log files to: {log_dir}\")\n",
        "  return tensorboard_callback"
      ],
      "metadata": {
        "id": "xKVkWm8s-_jj"
      },
      "execution_count": null,
      "outputs": []
    },
    {
      "cell_type": "markdown",
      "source": [
        "##Building Models Using Tensorflow Hub"
      ],
      "metadata": {
        "id": "Ym3mp1RpSzTG"
      }
    },
    {
      "cell_type": "code",
      "source": [
        "# define models url:\n",
        "# resnet_url = \"https://tfhub.dev/google/imagenet/resnet_v2_50/feature_vector/5\"\n",
        "resnet_url = \"https://tfhub.dev/google/imagenet/resnet_v2_50/feature_vector/4\"\n",
        "efficient_url = \"https://tfhub.dev/tensorflow/efficientnet/b0/feature-vector/1\""
      ],
      "metadata": {
        "id": "2zZOAMC3BuBT"
      },
      "execution_count": null,
      "outputs": []
    },
    {
      "cell_type": "code",
      "source": [
        "import tensorflow as tf\n",
        "import tensorflow_hub as hub\n",
        "from tensorflow.keras import layers"
      ],
      "metadata": {
        "id": "Vg1emvTKUbHx"
      },
      "execution_count": null,
      "outputs": []
    },
    {
      "cell_type": "code",
      "source": [
        "# define a function to return an uncompiled model as an output from a given hub url model:\n",
        "def create_model(model_url, num_classes = 10):\n",
        "  # download and save the model as a Keras layer from the model_url\n",
        "  extractor_layer = hub.KerasLayer(model_url,\n",
        "                                   trainable = False,\n",
        "                                   input_shape = SHAPE+(3,))\n",
        "  # creating sequential keras model:\n",
        "  model =  tf.keras.models.Sequential([\n",
        "      extractor_layer,\n",
        "      layers.Dense(num_classes, activation = \"softmax\")\n",
        "  ])\n",
        "\n",
        "  return model"
      ],
      "metadata": {
        "id": "SyNG06DsTqSD"
      },
      "execution_count": null,
      "outputs": []
    },
    {
      "cell_type": "code",
      "source": [
        "# Buildin ResNet model:\n",
        "resnet_model = create_model(resnet_url, num_classes = train_data_10_percent.num_classes)"
      ],
      "metadata": {
        "id": "nikfPpJ_XR6t"
      },
      "execution_count": null,
      "outputs": []
    },
    {
      "cell_type": "code",
      "source": [
        "resnet_model.compile(loss = 'categorical_crossentropy',\n",
        "                     optimizer = tf.keras.optimizers.Adam(),\n",
        "                     metrics = ['accuracy'])"
      ],
      "metadata": {
        "id": "tzqNLOL-XrAg"
      },
      "execution_count": null,
      "outputs": []
    },
    {
      "cell_type": "code",
      "source": [
        "resnet_history = resnet_model.fit(train_data_10_percent,\n",
        "                                  epochs = 5,\n",
        "                                  steps_per_epoch = len(train_data_10_percent),\n",
        "                                  validation_data = test_data,\n",
        "                                  validation_steps = len(test_data),\n",
        "                                  callbacks=[create_tensorboard_callback(dir_name=\"tensorflow_hub\", # save experiment logs here\n",
        "                                                                         experiment_name=\"resnet50V2\")])"
      ],
      "metadata": {
        "colab": {
          "base_uri": "https://localhost:8080/"
        },
        "id": "2hjQ_gO1ZgmB",
        "outputId": "e51786eb-a309-4dff-c203-e12c32185230"
      },
      "execution_count": null,
      "outputs": [
        {
          "output_type": "stream",
          "name": "stdout",
          "text": [
            "Saving TensorBoard log files to: tensorflow_hub/resnet50V2/20221231-201037\n",
            "Epoch 1/5\n",
            "24/24 [==============================] - 31s 828ms/step - loss: 1.8031 - accuracy: 0.4093 - val_loss: 1.1134 - val_accuracy: 0.6596\n",
            "Epoch 2/5\n",
            "24/24 [==============================] - 25s 1s/step - loss: 0.8659 - accuracy: 0.7413 - val_loss: 0.8031 - val_accuracy: 0.7532\n",
            "Epoch 3/5\n",
            "24/24 [==============================] - 18s 755ms/step - loss: 0.5990 - accuracy: 0.8240 - val_loss: 0.7166 - val_accuracy: 0.7776\n",
            "Epoch 4/5\n",
            "24/24 [==============================] - 17s 714ms/step - loss: 0.4661 - accuracy: 0.8800 - val_loss: 0.6813 - val_accuracy: 0.7812\n",
            "Epoch 5/5\n",
            "24/24 [==============================] - 24s 1s/step - loss: 0.3660 - accuracy: 0.9240 - val_loss: 0.6618 - val_accuracy: 0.7936\n"
          ]
        }
      ]
    },
    {
      "cell_type": "code",
      "source": [
        "# creating a function to plot the loss function:\n",
        "def plot_loss(history):\n",
        "  loss = history.history[\"loss\"]\n",
        "  val_loss = history.history[\"val_loss\"]\n",
        "\n",
        "  accuracy = history.history[\"accuracy\"]\n",
        "  val_accuracy = history.history[\"val_accuracy\"]\n",
        "\n",
        "  epochs = range(len(loss))\n",
        "\n",
        "  # plotting loss\n",
        "  plt.plot(epochs, loss, label = \"Training Loss\")\n",
        "  plt.plot(epochs, val_loss, label = \"Validation loss\")  \n",
        "  plt.legend();\n",
        "\n",
        "  # plotting Accuracy:\n",
        "  plt.figure()\n",
        "  plt.plot(epochs, accuracy, label = \"Training Accuracy\")\n",
        "  plt.plot(epochs, val_accuracy, label = \"Validation Accuracy\")  \n",
        "  plt.legend();"
      ],
      "metadata": {
        "id": "5TGqaG4NyoQP"
      },
      "execution_count": null,
      "outputs": []
    },
    {
      "cell_type": "code",
      "source": [
        "import matplotlib.pyplot as plt\n",
        "\n",
        "plot_loss(resnet_history)"
      ],
      "metadata": {
        "colab": {
          "base_uri": "https://localhost:8080/",
          "height": 513
        },
        "id": "0rYLMSpq0H7p",
        "outputId": "05fb7d26-faf6-4657-fe0b-df5d4bcd5c62"
      },
      "execution_count": null,
      "outputs": [
        {
          "output_type": "display_data",
          "data": {
            "text/plain": [
              "<Figure size 432x288 with 1 Axes>"
            ],
            "image/png": "[encoded data removed]"
          },
          "metadata": {
            "needs_background": "light"
          }
        },
        {
          "output_type": "display_data",
          "data": {
            "text/plain": [
              "<Figure size 432x288 with 1 Axes>"
            ],
            "image/png": "[encoded data removed]"
          },
          "metadata": {
            "needs_background": "light"
          }
        }
      ]
    },
    {
      "cell_type": "markdown",
      "source": [
        "**Building The EfficientNet50 model and test it.**"
      ],
      "metadata": {
        "id": "Nf1zLmV91ovZ"
      }
    },
    {
      "cell_type": "code",
      "source": [
        "efficientnet_model = create_model(efficient_url, num_classes = train_data_10_percent.num_classes)"
      ],
      "metadata": {
        "id": "BbbnH2tt0ocI"
      },
      "execution_count": null,
      "outputs": []
    },
    {
      "cell_type": "code",
      "source": [
        "efficientnet_model.compile(loss = 'categorical_crossentropy',\n",
        "                     optimizer = tf.keras.optimizers.Adam(),\n",
        "                     metrics = ['accuracy'])"
      ],
      "metadata": {
        "id": "_r8Bf7Ci2Q8t"
      },
      "execution_count": null,
      "outputs": []
    },
    {
      "cell_type": "code",
      "source": [
        "efficientnet_history = efficientnet_model.fit(train_data_10_percent,\n",
        "                                  epochs = 5,\n",
        "                                  steps_per_epoch = len(train_data_10_percent),\n",
        "                                  validation_data = test_data,\n",
        "                                  validation_steps = len(test_data),\n",
        "                                  callbacks=[create_tensorboard_callback(dir_name=\"tensorflow_hub\", # save experiment logs here\n",
        "                                                                         experiment_name=\"efficient_net_b0V2\")])"
      ],
      "metadata": {
        "colab": {
          "base_uri": "https://localhost:8080/"
        },
        "id": "qgxm-jDT2pxA",
        "outputId": "3832e4ed-9581-40f9-ddad-fa6afa00f295"
      },
      "execution_count": null,
      "outputs": [
        {
          "output_type": "stream",
          "name": "stdout",
          "text": [
            "Saving TensorBoard log files to: tensorflow_hub/efficient_net_b0V2/20221231-202456\n",
            "Epoch 1/5\n",
            "24/24 [==============================] - 27s 780ms/step - loss: 1.7810 - accuracy: 0.4773 - val_loss: 1.2437 - val_accuracy: 0.7728\n",
            "Epoch 2/5\n",
            "24/24 [==============================] - 16s 670ms/step - loss: 1.0205 - accuracy: 0.7827 - val_loss: 0.8381 - val_accuracy: 0.8276\n",
            "Epoch 3/5\n",
            "24/24 [==============================] - 16s 670ms/step - loss: 0.7269 - accuracy: 0.8400 - val_loss: 0.6747 - val_accuracy: 0.8496\n",
            "Epoch 4/5\n",
            "24/24 [==============================] - 16s 707ms/step - loss: 0.5860 - accuracy: 0.8827 - val_loss: 0.5929 - val_accuracy: 0.8584\n",
            "Epoch 5/5\n",
            "24/24 [==============================] - 16s 674ms/step - loss: 0.4957 - accuracy: 0.8920 - val_loss: 0.5450 - val_accuracy: 0.8644\n"
          ]
        }
      ]
    },
    {
      "cell_type": "code",
      "source": [
        "# plotting the efficient net loss function\n",
        "plot_loss(efficientnet_history)"
      ],
      "metadata": {
        "colab": {
          "base_uri": "https://localhost:8080/",
          "height": 513
        },
        "id": "ME27svUJ2-CO",
        "outputId": "4cbd9806-4063-43d8-fe6e-870cd6e756f4"
      },
      "execution_count": null,
      "outputs": [
        {
          "output_type": "display_data",
          "data": {
            "text/plain": [
              "<Figure size 432x288 with 1 Axes>"
            ],
            "image/png": "[encoded data removed]"
          },
          "metadata": {
            "needs_background": "light"
          }
        },
        {
          "output_type": "display_data",
          "data": {
            "text/plain": [
              "<Figure size 432x288 with 1 Axes>"
            ],
            "image/png": "[encoded data removed]"
          },
          "metadata": {
            "needs_background": "light"
          }
        }
      ]
    },
    {
      "cell_type": "code",
      "source": [],
      "metadata": {
        "id": "QYox06dg3i6r"
      },
      "execution_count": null,
      "outputs": []
    }
  ]
}